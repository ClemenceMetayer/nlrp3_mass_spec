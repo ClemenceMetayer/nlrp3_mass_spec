{
 "cells": [
  {
   "cell_type": "markdown",
   "metadata": {},
   "source": [
    "# <font color=#B40404>--------------------- Results of the Cosinor analysis ---------------------</font>"
   ]
  },
  {
   "cell_type": "markdown",
   "metadata": {},
   "source": [
    "# Table of Contents\n",
    "\n",
    "* [Importation of the data considering p-values and q-values ](#importation_data)\n",
    "* [Comparison of the results with Cosinor and RAIN - Mass Spec data](#comparison_mass_spec)\n",
    "* [Comparison of the results with Cosinor and RAIN - RNA Seq data](#comparison_rna_seq)\n",
    "* [Comparison of the results with Cosinor and RAIN - Mass Spec + RNA Seq data](#comparison_mass_spec_rna_seq)"
   ]
  },
  {
   "cell_type": "code",
   "execution_count": 1,
   "metadata": {},
   "outputs": [],
   "source": [
    "import pandas as pd\n",
    "import numpy as np\n",
    "import copy\n",
    "import matplotlib.pyplot as plt\n",
    "from matplotlib.pyplot import figure\n",
    "from matplotlib.cbook import get_sample_data\n",
    "import json\n",
    "import pickle as pkl\n",
    "import random\n",
    "import os\n",
    "\n",
    "import warnings\n",
    "\n",
    "warnings.simplefilter(action='ignore', category=FutureWarning) # cosinorPy uses soon-to-be deprecated method pd.append..."
   ]
  },
  {
   "cell_type": "markdown",
   "metadata": {},
   "source": [
    "# Importation of the data considering p-values <a class=\"anchor\" id=\"importation_data\"></a>"
   ]
  },
  {
   "cell_type": "code",
   "execution_count": 5,
   "metadata": {},
   "outputs": [],
   "source": [
    "# RAIN results\n",
    "rain_results_mass_spec = pd.read_csv(\"data Mass Spec/rain_results.csv\")\n",
    "rain_results_rna_seq = pd.read_csv(\"data RNA Seq/rain_results.csv\")\n",
    "\n",
    "# Cosinor results\n",
    "cosinor_results_mass_spec = pd.read_csv(\"data Mass Spec/rhythm_prots_period_24_pval.csv\")\n",
    "nb_model_cosinor_mass_spec = cosinor_results_mass_spec.loc[cosinor_results_mass_spec['pval'] == 0.05, 'nb_prots_ctrl']\n",
    "nb_model_cosinor_mass_spec = nb_model_cosinor_mass_spec.iloc[0]\n",
    "cosinor_results_rna_seq = pd.read_csv(\"data RNA Seq/rhythm_prots_period_24_pval.csv\")\n",
    "nb_model_cosinor_rna_seq = cosinor_results_rna_seq.loc[cosinor_results_rna_seq['pval'] == 0.05, 'nb_prots_ctrl']\n",
    "nb_model_cosinor_rna_seq = nb_model_cosinor_rna_seq.iloc[0]\n",
    "\n",
    "sum_rain_results = len(rain_results_mass_spec) + len(rain_results_rna_seq)\n",
    "sum_cosinor_results = nb_model_cosinor_mass_spec + nb_model_cosinor_rna_seq"
   ]
  },
  {
   "cell_type": "markdown",
   "metadata": {},
   "source": [
    "# Comparison of the results with Cosinor and RAIN - Mass Spec data <a class=\"anchor\" id=\"comparison_mass_spec\"></a>"
   ]
  },
  {
   "cell_type": "code",
   "execution_count": 6,
   "metadata": {},
   "outputs": [
    {
     "name": "stdout",
     "output_type": "stream",
     "text": [
      "After the Cosinor analysis on the Mass Spec data, we obtain 255 significative models based on a 0.05 p-value threshold\n",
      "After the RAIN analysis on the Mass Spec data, we obtain 473 significative models based on a 0.05 p-value threshold\n"
     ]
    }
   ],
   "source": [
    "print(f\"After the Cosinor analysis on the Mass Spec data, we obtain {nb_model_cosinor_mass_spec} significative models based on a 0.05 p-value threshold\")\n",
    "\n",
    "print(f\"After the RAIN analysis on the Mass Spec data, we obtain {len(rain_results_mass_spec)} significative models based on a 0.05 p-value threshold\")\n"
   ]
  },
  {
   "cell_type": "markdown",
   "metadata": {},
   "source": [
    "# Comparison of the results with Cosinor and RAIN - RNA Seq data <a class=\"anchor\" id=\"comparison_rna_seq\"></a>"
   ]
  },
  {
   "cell_type": "code",
   "execution_count": 7,
   "metadata": {},
   "outputs": [
    {
     "name": "stdout",
     "output_type": "stream",
     "text": [
      "After the Cosinor analysis on the RNA-Seq data, we obtain 8081 significative models based on a 0.05 p-value threshold\n",
      "After the RAIN analysis on the RNA_Seq data, we obtain 8767 significative models based on a 0.05 p-value threshold\n"
     ]
    }
   ],
   "source": [
    "print(f\"After the Cosinor analysis on the RNA-Seq data, we obtain {nb_model_cosinor_rna_seq} significative models based on a 0.05 p-value threshold\")\n",
    "\n",
    "print(f\"After the RAIN analysis on the RNA_Seq data, we obtain {len(rain_results_rna_seq)} significative models based on a 0.05 p-value threshold\")\n"
   ]
  },
  {
   "cell_type": "markdown",
   "metadata": {},
   "source": [
    "# Comparison of the results with Cosinor and RAIN - Mass Spec + RNA Seq data <a class=\"anchor\" id=\"comparison_mass_spec_rna_seq\"></a>"
   ]
  },
  {
   "cell_type": "code",
   "execution_count": 9,
   "metadata": {},
   "outputs": [
    {
     "name": "stdout",
     "output_type": "stream",
     "text": [
      "After the Cosinor analysis on the RNA-Seq data, we obtain 8336 significative models based on a 0.05 p-value threshold\n",
      "After the RAIN analysis on the RNA_Seq data, we obtain 9240 significative models based on a 0.05 p-value threshold\n"
     ]
    }
   ],
   "source": [
    "print(f\"After the Cosinor analysis on the RNA-Seq data, we obtain {sum_cosinor_results} significative models based on a 0.05 p-value threshold\")\n",
    "\n",
    "print(f\"After the RAIN analysis on the RNA_Seq data, we obtain {sum_rain_results} significative models based on a 0.05 p-value threshold\")\n"
   ]
  }
 ],
 "metadata": {
  "kernelspec": {
   "display_name": "Python 3 (ipykernel)",
   "language": "python",
   "name": "python3"
  },
  "language_info": {
   "codemirror_mode": {
    "name": "ipython",
    "version": 3
   },
   "file_extension": ".py",
   "mimetype": "text/x-python",
   "name": "python",
   "nbconvert_exporter": "python",
   "pygments_lexer": "ipython3",
   "version": "3.9.13"
  },
  "vscode": {
   "interpreter": {
    "hash": "aee8b7b246df8f9039afb4144a1f6fd8d2ca17a180786b69acc140d282b71a49"
   }
  }
 },
 "nbformat": 4,
 "nbformat_minor": 2
}
